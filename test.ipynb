{
 "cells": [
  {
   "cell_type": "markdown",
   "id": "9ed73831",
   "metadata": {},
   "source": [
    "# 導入模組"
   ]
  },
  {
   "cell_type": "code",
   "execution_count": 1,
   "id": "a2e711de",
   "metadata": {},
   "outputs": [
    {
     "name": "stderr",
     "output_type": "stream",
     "text": [
      "/home/haobbc/miniconda3/envs/ERASLLM/lib/python3.10/site-packages/tqdm/auto.py:21: TqdmWarning: IProgress not found. Please update jupyter and ipywidgets. See https://ipywidgets.readthedocs.io/en/stable/user_install.html\n",
      "  from .autonotebook import tqdm as notebook_tqdm\n"
     ]
    }
   ],
   "source": [
    "from core.db_manager import DBManager\n",
    "db_manager = DBManager()"
   ]
  },
  {
   "cell_type": "code",
   "execution_count": 1,
   "id": "a1d2a341",
   "metadata": {},
   "outputs": [
    {
     "name": "stderr",
     "output_type": "stream",
     "text": [
      "/home/haobbc/miniconda3/envs/ERASLLM/lib/python3.10/site-packages/tqdm/auto.py:21: TqdmWarning: IProgress not found. Please update jupyter and ipywidgets. See https://ipywidgets.readthedocs.io/en/stable/user_install.html\n",
      "  from .autonotebook import tqdm as notebook_tqdm\n"
     ]
    },
    {
     "name": "stdout",
     "output_type": "stream",
     "text": [
      "Qwen/Qwen2.5-14B-Instruct-1M\n"
     ]
    }
   ],
   "source": [
    "from core.model_manager import ModelManager\n",
    "manager = ModelManager(inactivity_timeout=60)\n",
    "print(manager.model_name)\n"
   ]
  },
  {
   "cell_type": "code",
   "execution_count": 2,
   "id": "1bf39946",
   "metadata": {},
   "outputs": [
    {
     "name": "stderr",
     "output_type": "stream",
     "text": [
      "Sliding Window Attention is enabled but not implemented for `sdpa`; unexpected results may be encountered.\n",
      "Loading checkpoint shards: 100%|██████████| 8/8 [00:03<00:00,  2.20it/s]\n"
     ]
    },
    {
     "name": "stdout",
     "output_type": "stream",
     "text": [
      "{'model_name': 'Qwen/Qwen2.5-14B-Instruct-1M', 'initialized': True, 'current_device': 'cpu', 'device_details': {'type': 'cpu'}, 'last_used': 0.0, 'gpu_available': True, 'gpu_memory': None, 'max_context_length': 1010000, 'monitor_thread_alive': False, 'load_in_4bit_setting': True, 'inactivity_timeout_setting': 60, 'monitor_check_interval_setting': 60}\n"
     ]
    }
   ],
   "source": [
    "manager.initialize(force_cpu_init=True)\n",
    "print(manager.get_status())"
   ]
  },
  {
   "cell_type": "code",
   "execution_count": 13,
   "id": "41cf5cc3",
   "metadata": {},
   "outputs": [
    {
     "name": "stdout",
     "output_type": "stream",
     "text": [
      "模型直接回應:  ERAS是「加速恢復外科」的縮寫。這是一種醫療模式，旨在通過一系列措施來減少手術患者的住院時間和並發症，並促進其快速康復。這些措施包括在手術前、中、後的不同階段採取特定的護理策略。例如，在手術前可能建議患者進行飲食調整或運動；在手術過程中則會控制疼痛管理；而在手術後則會加快患者的活動並提供適當的營養支持等。這種方法可以幫助患者更快地回到正常生活，同時也降低了醫院的運作成本。不過，具體實施時需要根據每個患者的健康狀況和手術類型進行個別化調整。如果您有更詳細的需求或是想了解更多資訊，請隨時告訴我！\n"
     ]
    }
   ],
   "source": [
    "simple_prompt = \"ERAS是什麼的縮寫？請用繁體中文回答。\"\n",
    "response = manager.generate_response(\n",
    "    prompt=simple_prompt,\n",
    "    max_new_tokens=4000,\n",
    "    temperature=0.7,\n",
    "    do_sample=True\n",
    ")\n",
    "print(f\"模型直接回應: {response}\")"
   ]
  },
  {
   "cell_type": "code",
   "execution_count": 3,
   "id": "812f3b85",
   "metadata": {},
   "outputs": [
    {
     "name": "stdout",
     "output_type": "stream",
     "text": [
      "\n",
      "模型流式回應:\n",
      "ERAS是「加速恢復外科（Enhanced Recovery After Surgery）」的縮寫。\n",
      "\n",
      "根據ERAS指引，腰椎手術術前的復健訓練通常包括以下幾個方面：\n",
      "\n",
      "1. **核心肌群強化**：透過特定的運動來增強腹部和背部的核心肌群，以提供更好的脊柱支撐。\n",
      "2. **伸展運動**：進行一些輕度的伸展運動，幫助增加柔軟度並減少術後僵硬感。\n",
      "3. **呼吸練習**：學習正確的呼吸技巧，有助於減少術後疼痛及促進肺部功能恢復。\n",
      "4. **步態訓練**：如果患者有行走困難的情況，可以進行步態訓練，確保術後能夠安全地移動。\n",
      "\n",
      "這些訓練旨在提高患者的身體狀況，減少術後併發症，並加快術後恢復過程。具體的訓練內容應由專業的物理治療師或醫師指導進行。\n"
     ]
    }
   ],
   "source": [
    "simple_prompt = \"USER:ERAS是什麼的縮寫？請用繁體中文回答？根據ERAS指引，腰椎手術術前需要做怎麼樣的復健訓練? ASSISTANT:\"\n",
    "print(\"\\n模型流式回應:\")\n",
    "for chunk in manager.generate_stream_response(\n",
    "    prompt=simple_prompt,\n",
    "    max_new_tokens=4000,\n",
    "    temperature=0.1,\n",
    "    do_sample=True\n",
    "):\n",
    "    print(chunk, end=\"\", flush=True)\n",
    "print()"
   ]
  },
  {
   "cell_type": "code",
   "execution_count": 7,
   "id": "99838999",
   "metadata": {},
   "outputs": [
    {
     "name": "stdout",
     "output_type": "stream",
     "text": [
      "{'model_name': 'Qwen/Qwen2.5-14B-Instruct-1M', 'initialized': True, 'current_device': 'cpu', 'device_details': {'type': 'cpu'}, 'last_used': 1747447471.1971393, 'gpu_available': True, 'gpu_memory': None, 'max_context_length': 1010000, 'monitor_thread_alive': True, 'load_in_4bit_setting': True, 'inactivity_timeout_setting': 60, 'monitor_check_interval_setting': 60}\n"
     ]
    }
   ],
   "source": [
    "print(manager.get_status())"
   ]
  },
  {
   "cell_type": "code",
   "execution_count": 5,
   "id": "0630d189",
   "metadata": {},
   "outputs": [],
   "source": [
    "manager.model = None\n",
    "manager.shutdown()"
   ]
  }
 ],
 "metadata": {
  "kernelspec": {
   "display_name": "ERASLLM",
   "language": "python",
   "name": "python3"
  },
  "language_info": {
   "codemirror_mode": {
    "name": "ipython",
    "version": 3
   },
   "file_extension": ".py",
   "mimetype": "text/x-python",
   "name": "python",
   "nbconvert_exporter": "python",
   "pygments_lexer": "ipython3",
   "version": "3.10.16"
  }
 },
 "nbformat": 4,
 "nbformat_minor": 5
}
