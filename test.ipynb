{
 "cells": [
  {
   "cell_type": "markdown",
   "id": "9ed73831",
   "metadata": {},
   "source": [
    "# 導入模組"
   ]
  },
  {
   "cell_type": "code",
   "execution_count": null,
   "id": "8b52b0e6",
   "metadata": {},
   "outputs": [],
   "source": [
    "from transformers import AutoTokenizer, AutoModelForCausalLM\n",
    "\n",
    "tokenizer = AutoTokenizer.from_pretrained(\"microsoft/Phi-4-reasoning\")\n",
    "model = AutoModelForCausalLM.from_pretrained(\"microsoft/Phi-4-reasoning\", device_map=\"auto\", torch_dtype=\"auto\")\n",
    "\n",
    "messages = [\n",
    "    {\"role\": \"system\", \"content\": \"You are Phi, a language model trained by Microsoft to help users. Your role as an assistant involves thoroughly exploring questions through a systematic thinking process before providing the final precise and accurate solutions. This requires engaging in a comprehensive cycle of analysis, summarizing, exploration, reassessment, reflection, backtracing, and iteration to develop well-considered thinking process. Please structure your response into two main sections: Thought and Solution using the specified format: <think> {Thought section} </think> {Solution section}. In the Thought section, detail your reasoning process in steps. Each step should include detailed considerations such as analysing questions, summarizing relevant findings, brainstorming new ideas, verifying the accuracy of the current steps, refining any errors, and revisiting previous steps. In the Solution section, based on various attempts, explorations, and reflections from the Thought section, systematically present the final solution that you deem correct. The Solution section should be logical, accurate, and concise and detail necessary steps needed to reach the conclusion. Now, try to solve the following question through the above guidelines:\"},\n",
    "    {\"role\": \"user\", \"content\": \"什麼是ERAS？請問繁體中文解釋。\"},\n",
    "]\n",
    "inputs = tokenizer.apply_chat_template(messages, tokenize=True, add_generation_prompt=True, return_tensors=\"pt\")\n",
    "\n",
    "outputs = model.generate(\n",
    "    inputs.to(model.device),\n",
    "    max_new_tokens=4096,\n",
    "    temperature=0.8,\n",
    "    top_k=50,\n",
    "    top_p=0.95,\n",
    "    do_sample=True,\n",
    ")\n",
    "print(tokenizer.decode(outputs[0]))\n",
    "\n"
   ]
  },
  {
   "cell_type": "code",
   "execution_count": 1,
   "id": "a2e711de",
   "metadata": {},
   "outputs": [
    {
     "name": "stderr",
     "output_type": "stream",
     "text": [
      "/home/haobbc/miniconda3/envs/ERASLLM/lib/python3.10/site-packages/tqdm/auto.py:21: TqdmWarning: IProgress not found. Please update jupyter and ipywidgets. See https://ipywidgets.readthedocs.io/en/stable/user_install.html\n",
      "  from .autonotebook import tqdm as notebook_tqdm\n"
     ]
    }
   ],
   "source": [
    "from core.db_manager import DBManager\n",
    "db_manager = DBManager()"
   ]
  },
  {
   "cell_type": "code",
   "execution_count": null,
   "id": "1053e34f",
   "metadata": {},
   "outputs": [
    {
     "name": "stdout",
     "output_type": "stream",
     "text": [
      "None\n",
      "sentence-transformers_all-MiniLM-L6-v2\n",
      "[Document(metadata={'author': 'G. Nelson', 'creationdate': '2023-04-20T06:14:22+00:00', 'creator': 'Elsevier', 'crossmarkdomainexclusive': 'true', 'crossmarkdomains[1]': 'elsevier.com', 'crossmarkdomains[2]': 'sciencedirect.com', 'crossmarkmajorversiondate': '2010-04-23', 'doi': '10.1016/j.ygyno.2023.04.009', 'elsevierwebpdfspecifications': '7.0', 'keywords': 'Enhanced recovery after surgery; \\t\\t\\tERAS; \\t\\t\\tPerioperative care; \\t\\t\\tSurgical quality; \\t\\t\\tGynecologic oncology surgery', 'moddate': '2023-04-20T06:14:22+00:00', 'page': 1, 'page_label': '2', 'producer': 'PyPDF', 'robots': 'noindex', 'source': './PDFS/Enhanced recovery after surgery (ERAS®) society guidelines for gynecologic oncology Addressing implementation challenges -.pdf', 'source_file_name': 'Enhanced recovery after surgery (ERAS®) society guidelines for gynecologic oncology Addressing implementation challenges -.pdf', 'start_index': 0, 'subject': 'Gynecologic Oncology, 173 (2023) -. doi:10.1016/j.ygyno.2023.04.009', 'title': 'Enhanced recovery after surgery (ERAS®) society guidelines for gynecologic oncology: Addressing implementation challenges - 2023 update', 'total_pages': 10, 'distance': 0.6822131872177124}, page_content='Contents\\n1 . I n t r o d u c t i o n ............................................................... 5 9\\n2 . M e t h o d s................................................................ 5 9\\n2 . 1 . I m p l e m e n t a t i o n c h a l l e n g e s ..................................................... 5 9\\n2 . 2 . L i t e r a t u r e s e a r c h......................................................... 5 9\\n2 . 3 . Q u a l i t y a s s e s s m e n t........................................................ 5 9\\n3 . R e s u l t s ................................................................. 6 0\\n3 . 1 . I s p e r i o p e r a t i v e o r a l i n t a k e s a f e a n d h o w c a n I c o n v i n c e m y a n e s t h e s i o l o g i s t ? .............................. 6 0\\n3 . 2 . P r e o p e r a t i v e m e d i c a t i o n s - w h i c h a r e t h e m o s t i m p o r t a n t ? ...................................... 6 1'), Document(metadata={'author': 'Emmanuel Melloul', 'creationdate': '2016-08-20T13:06:42+05:30', 'creator': 'Springer', 'crossmarkdomainexclusive': 'true', 'crossmarkdomains[1]': 'springer.com', 'crossmarkdomains[2]': 'springerlink.com', 'crossmarkmajorversiondate': '2010-04-23', 'doi': '10.1007/s00268-016-3700-1', 'moddate': '2016-09-14T10:21:06+05:30', 'page': 11, 'page_label': '2436', 'producer': 'PyPDF', 'robots': 'noindex', 'source': './PDFS/Guidelines for Perioperative Care for Liver Surgery Enhanced Recovery After Surgery (ERAS) Society Recommendations.pdf', 'source_file_name': 'Guidelines for Perioperative Care for Liver Surgery Enhanced Recovery After Surgery (ERAS) Society Recommendations.pdf', 'start_index': 2742, 'subject': 'World Journal of Surgery, doi:10.1007/s00268-016-3700-1', 'title': 'Guidelines for Perioperative Care for Liver Surgery: Enhanced Recovery After Surgery (ERAS) Society Recommendations', 'total_pages': 16, 'distance': 0.7494372129440308}, page_content='is based on the best available evidence, but it needs to be\\nfurther investigated. In addition, a very important aspect of\\nERAS pathways is the assessment of adherence to the\\nprotocol (compliance). Compliance with the new proposed\\nliver ERAS protocol should be documented as part of\\nfurther trial to allow benchmarking.\\nAuthors’ contributions EM performed the systematic review and\\nwrote and edited the manuscript; MH performed the systematic review,\\nwrote one part of the manuscript and edited the manuscript; MS per-\\nformed the systematic review, wrote one part of the manuscript and\\nedited the manuscript; CS performed the systematic review and wrote\\none part of the manuscript; JP performed the systematic review and\\nwrote one part of the manuscript; CHCD revised critically and edited\\nthe manuscript; OJG revised critically and edited the manuscript; OF\\nrevised critically and edited the manuscript; NK revised critically and'), Document(metadata={'author': 'Katharine L. McGinigle MD MPH', 'creationdate': '2022-05-12T00:28:04+05:30', 'creator': 'Elsevier', 'crossmarkdomainexclusive': 'true', 'crossmarkdomains[1]': 'elsevier.com', 'crossmarkdomains[2]': 'sciencedirect.com', 'crossmarkmajorversiondate': '2010-04-23', 'doi': '10.1016/j.jvs.2022.01.131', 'elsevierwebpdfspecifications': '7.0', 'moddate': '2022-05-14T20:21:47+05:30', 'page': 1, 'page_label': '1797', 'producer': 'Acrobat Distiller 8.0.0 (Windows)', 'robots': 'noindex', 'source': './PDFS/Perioperative care in open aortic vascular surgery A consensus statement by the Enhanced Recovery After Surgery (ERAS) Society and Society for Vascular Surgery.pdf', 'source_file_name': 'Perioperative care in open aortic vascular surgery A consensus statement by the Enhanced Recovery After Surgery (ERAS) Society and Society for Vascular Surgery.pdf', 'start_index': 0, 'subject': 'Journal of Vascular Surgery, 75 (2022) 1796-1820. doi:10.1016/j.jvs.2022.01.131', 'title': 'Perioperative care in open aortic vascular surgery: A consensus statement by the Enhanced Recovery After Surgery (ERAS) Society and Society for Vascular Surgery', 'total_pages': 25, 'distance': 0.7802962064743042}, page_content='2a. Anemia screening ...................................................1799\\n2b. Nutritional deﬁciency .......................................... 1799\\n2c. Frailty ................................................................................. 1799\\n2d. Delirium risk ................................................................1802\\n2e. Tobacco and alcohol cessation ...................1802\\n2f. Medical risk ...................................................................1803\\n2f-i. Cardiovascular risk ..........................................1803\\n2f-ii. Renal risk ..............................................................1804\\n3. Preoperative exercise therapy and\\nprehabilitation ........................................................................... 1804\\n4. Perioperative anticoagulation strategy or\\nplan ....................................................................................................1804\\nPREOPERATIVE RECOMMENDATIONS ........................1805'), Document(metadata={'creationdate': '2017-04-05T08:22:17+05:30', 'creator': 'Adobe InDesign CS5.5 (7.5.3)', 'keywords': 'LWW', 'moddate': \"D:20250428092157Z00'00'\", 'page': 8, 'page_label': 'e1064', 'producer': 'PD4ML 4.0.18', 'source': './PDFS/Consensus Review of Optimal Perioperative Care in Breast Reconstruction Enhanced Recovery after Surgery (ERAS) Society Recommendations.pdf', 'source_file_name': 'Consensus Review of Optimal Perioperative Care in Breast Reconstruction Enhanced Recovery after Surgery (ERAS) Society Recommendations.pdf', 'start_index': 5414, 'total_pages': 16, 'trapped': '/False', 'distance': 0.8181858062744141}, page_content='access and preferences? Can J Plast Surg. 2012;20:37–42.\\nDownloaded from http://journals.lww.com/plasreconsurg by BhDMf5ePHKav1zEoum1tQfN4a+kJLhEZgbsIHo4XMi0\\nhCywCX1AWnYQp/IlQrHD3i3D0OdRyi7TvSFl4Cf3VC1y0abggQZXdgGj2MwlZLeI= on 04/28/2025'), Document(metadata={'author': 'U. O. Gustafsson', 'creationdate': '2018-11-13T12:05:44+05:30', 'creator': 'Springer', 'crossmarkdomainexclusive': 'true', 'crossmarkdomains[1]': 'springer.com', 'crossmarkdomains[2]': 'springerlink.com', 'crossmarkmajorversiondate': '2010-04-23', 'doi': '10.1007/s00268-018-4844-y', 'moddate': '2019-01-25T10:28:20+05:30', 'page': 24, 'page_label': '683', 'producer': 'PyPDF', 'robots': 'noindex', 'source': './PDFS/Guidelines for Perioperative Care in Elective Colorectal Surgery Enhanced Recovery After Surgery (ERAS®) Society Recommendations 2018.pdf', 'source_file_name': 'Guidelines for Perioperative Care in Elective Colorectal Surgery Enhanced Recovery After Surgery (ERAS®) Society Recommendations 2018.pdf', 'start_index': 4556, 'subject': 'World Journal of Surgery, https://doi.org/10.1007/s00268-018-4844-y', 'title': 'Guidelines for Perioperative Care in Elective Colorectal Surgery: Enhanced Recovery After Surgery (ERAS®) Society Recommendations: 2018', 'total_pages': 37, 'distance': 0.8204716444015503}, page_content='improvements and to know and control practice. Outcomes\\n(complications and mortality 30 days) and processes\\nshould be audited and feed back to all healthcare providers\\non a regular basis when driving change or implementing\\nERAS programmes, as well as for sustaining\\nimprovements.\\nQuality of evidence: High\\nRecommendation grade: Strong\\nImplications of ERAS for nursing practice\\nImplementation of an ERAS programme can be challeng-\\ning for clinical staff. Nurses can often ﬁnd certain elements\\nof the process difﬁcult as they are often expected to alter\\ntheir practice based on current evidence. ERAS education\\nis essential to inform and update all members of the clinical\\nteam about all the ERAS interventions and this should\\nbegin at nursing colleges and universities. Regular multi-\\nWorld J Surg (2019) 43:659–695 683\\n123')]\n"
     ]
    }
   ],
   "source": [
    "db_manager.connect_db\n",
    "\n",
    "print(db_manager.collection_name)\n"
   ]
  },
  {
   "cell_type": "code",
   "execution_count": 3,
   "id": "6144430e",
   "metadata": {},
   "outputs": [
    {
     "data": {
      "text/plain": [
       "['A-framework-for-perioperative-care-for-lower-extremity-vascular-bypasses-a-Consensus-Statement-by-the-Enhanced-Recovery-after-Surgery-ERAS-Society-and-Society-for-Vascular-Surgery.pdf',\n",
       " 'British Journal of Surgery - 2014 - Mortensen - Consensus guidelines for enhanced recovery after gastrectomy.pdf',\n",
       " 'Consensus Guidelines for Perioperative Care for Emergency Laparotomy Enhanced Recovery After Surgery (ERAS®) Society Recommendations Part 2—Emergency Laparotomy Intra- and Postoperative Care.pdf',\n",
       " 'Consensus Guidelines for Perioperative Care in Neonatal Intestinal Surgery Enhanced Recovery After Surgery (ERAS®) Society Recommendations.pdf',\n",
       " 'Consensus Review of Optimal Perioperative Care in Breast Reconstruction Enhanced Recovery after Surgery (ERAS) Society Recommendations.pdf',\n",
       " 'Consensus statement for perioperative care in lumbar spinal fusion Enhanced Recovery After Surgery (ERAS®) Society recommendations.pdf',\n",
       " 'Consensus statement for perioperative care in total hip replacement and totalknee replacement surgery Enhanced Recovery After Surgery (ERAS®) Societyrecommendations.pdf',\n",
       " 'Enhanced Recovery After Surgery (ERAS) for gastrointestinal surgery, part 2 consensus statement for anaesthesia practice.pdf',\n",
       " 'Enhanced Recovery After Surgery (ERAS) for gastrointestinalsurgery, part 1 pathophysiological considerations.pdf',\n",
       " 'Enhanced Recovery After Surgery (ERAS®) Society Consensus Guidelines for Emergency Laparotomy Part 3 Organizational Aspects and General Considerations for Management of the Emergency Laparotomy Patient.pdf',\n",
       " 'Enhanced recovery after surgery (ERAS®) society guidelines for gynecologic oncology Addressing implementation challenges -.pdf',\n",
       " 'Guidelines for Antenatal and Preoperative care in Cesarean Delivery Enhanced Recovery After Surgery Society Recommendations (Part 1).pdf',\n",
       " 'Guidelines for Perioperative Care for Emergency Laparotomy Enhanced Recovery After Surgery (ERAS) Society Recommendations Part 1—Preoperative Diagnosis, Rapid Assessment and Optimization.pdf',\n",
       " 'Guidelines for Perioperative Care for Liver Surgery Enhanced Recovery After Surgery (ERAS) Society Recommendations 2022.pdf',\n",
       " 'Guidelines for Perioperative Care for Liver Surgery Enhanced Recovery After Surgery (ERAS) Society Recommendations.pdf',\n",
       " 'Guidelines for Perioperative Care for Liver Transplantation Enhanced Recovery After Surgery (ERAS) Recommendations.pdf',\n",
       " 'Guidelines for Perioperative Care for Pancreatoduodenectomy Enhanced Recovery After Surgery (ERAS) Recommendations 2019.pdf',\n",
       " 'Guidelines for Perioperative Care in Bariatric Surgery Enhanced Recovery After Surgery (ERAS) Society Recommendations A 2021 Update.pdf',\n",
       " 'Guidelines for Perioperative Care in Bariatric Surgery Enhanced Recovery After Surgery (ERAS) Society Recommendations.pdf',\n",
       " 'Guidelines for Perioperative Care in Cardiac Surgery Enhanced Recovery After Surgery Society Recommendations.pdf',\n",
       " 'Guidelines for Perioperative Care in Cytoreductive Surgery (CRS) with or without hyperthermic IntraPEritoneal chemotherapy (HIPEC) Enhanced Recovery After Surgery (ERAS) Society Recommendations — Part2.pdf',\n",
       " 'Guidelines for Perioperative Care in Cytoreductive Surgery (CRS) with or without hyperthermic IntraPEritoneal chemotherapy (HIPEC) Enhanced recovery after surgery (ERAS®) Society Recommendations — Part.pdf',\n",
       " 'Guidelines for Perioperative Care in Elective Colorectal Surgery Enhanced Recovery After Surgery (ERAS®) Society Recommendations 2018.pdf',\n",
       " 'Guidelines for Perioperative Care in Esophagectomy EnhancedRecovery After Surgery (ERASÒ) Society Recommendations.pdf',\n",
       " 'Guidelines for enhanced recovery after lung surgery recommendations of the Enhanced Recovery After Surgery (ERAS®) Society and the European Society of Thoracic Surgeons (ESTS).pdf',\n",
       " 'Guidelines for intraoperative care in cesarean delivery Enhanced Recovery After Surgery Society Recommendations (Part 2).pdf',\n",
       " 'Guidelines for perioperative care after radical cystectomy for bladder cancer Enhanced Recovery After Surgery (ERAS®) society recommendations.pdf',\n",
       " 'Guidelines for postoperative care in cesarean delivery Enhanced Recovery After Surgery (ERAS) Society recommendations (part 3).pdf',\n",
       " 'Guidelines for vulvar and vaginal surgery Enhanced Recovery After Surgery Society recommendations.pdf',\n",
       " 'Optimal Perioperative Care in Major Head and Neck Cancer Surgery With Free Flap Reconstruction A Consensus Review and Recommendations From the Enhanced Recovery After Surgery Society.pdf',\n",
       " 'Perioperative care in open aortic vascular surgery A consensus statement by the Enhanced Recovery After Surgery (ERAS) Society and Society for Vascular Surgery.pdf',\n",
       " 'Using_a_Mobile_Application_for_Real-Time_Collectio.pdf',\n",
       " 'fsurg-07-573398.pdf']"
      ]
     },
     "execution_count": 3,
     "metadata": {},
     "output_type": "execute_result"
    }
   ],
   "source": [
    "db_manager.get_available_source_files()"
   ]
  },
  {
   "cell_type": "code",
   "execution_count": 4,
   "id": "d69578dd",
   "metadata": {},
   "outputs": [
    {
     "name": "stdout",
     "output_type": "stream",
     "text": [
      "[Document(metadata={'creationdate': '2017-04-05T08:22:17+05:30', 'creator': 'Adobe InDesign CS5.5 (7.5.3)', 'keywords': 'LWW', 'moddate': \"D:20250428092157Z00'00'\", 'page': 8, 'page_label': 'e1064', 'producer': 'PD4ML 4.0.18', 'source': './PDFS/Consensus Review of Optimal Perioperative Care in Breast Reconstruction Enhanced Recovery after Surgery (ERAS) Society Recommendations.pdf', 'source_file_name': 'Consensus Review of Optimal Perioperative Care in Breast Reconstruction Enhanced Recovery after Surgery (ERAS) Society Recommendations.pdf', 'start_index': 5414, 'total_pages': 16, 'trapped': '/False', 'distance': 0.8181858062744141}, page_content='access and preferences? Can J Plast Surg. 2012;20:37–42.\\nDownloaded from http://journals.lww.com/plasreconsurg by BhDMf5ePHKav1zEoum1tQfN4a+kJLhEZgbsIHo4XMi0\\nhCywCX1AWnYQp/IlQrHD3i3D0OdRyi7TvSFl4Cf3VC1y0abggQZXdgGj2MwlZLeI= on 04/28/2025'), Document(metadata={'author': 'Bertrand Debono MD', 'authoritativedomain[1]': 'sciencedirect.com', 'authoritativedomain[2]': 'elsevier.com', 'creationdate': '2021-04-24T17:26:18+05:30', 'creator': 'Elsevier', 'crossmarkdomainexclusive': 'true', 'crossmarkdomains[1]': 'sciencedirect.com', 'crossmarkdomains[2]': 'elsevier.com', 'crossmarkmajorversiondate': '2010-04-23', 'doi': '10.1016/j.spinee.2021.01.001', 'elsevierwebpdfspecifications': '7.0', 'keywords': '\"Enhanced recovery after surgery\"; \"Perioperative care\"; \"Fast-track surgery\"; \"ERAS\"; \"Spine surgery\"; \"Lumbar fusion\"; \"Minimally invasive spine surgery\"; \"Degenerative spine disease\"; \"Evidence-based recommendations\"', 'moddate': '2021-04-24T04:56:38-07:00', 'page': 1, 'page_label': '730', 'producer': 'Acrobat Distiller 10.0.0 (Windows)', 'robots': 'noindex', 'source': './PDFS/Consensus statement for perioperative care in lumbar spinal fusion Enhanced Recovery After Surgery (ERAS®) Society recommendations.pdf', 'source_file_name': 'Consensus statement for perioperative care in lumbar spinal fusion Enhanced Recovery After Surgery (ERAS®) Society recommendations.pdf', 'start_index': 0, 'subject': 'The Spine Journal, 21 (2021) 729-752. doi:10.1016/j.spinee.2021.01.001', 'title': 'Consensus statement for perioperative care in lumbar spinal fusion: Enhanced Recovery After Surgery (ERAS®) Society recommendations', 'total_pages': 24, 'distance': 0.831665575504303}, page_content='STUDY DESIGN:This is a review article.\\nMETHODS: Under the impetus of the ERAS/C210society, a multidisciplinary guideline development\\ngroup was constituted by bringing together international experts involved in the practice of ERAS\\nand spine surgery. This group identiﬁed 22 ERAS items for lumbar fusion. A systematic search in\\nthe English language was performed in MEDLINE, Embase, and Cochrane Central Register of\\nControlled Trials. Systematic reviews, randomized controlled trials, and cohort studies were\\nincluded, and the evidence was graded according to the Grading of Recommendations, Assessment,\\nDevelopment, and Evaluation (GRADE) system. Consensus recommendation was reached by the\\ngroup after a critical appraisal of the literature.\\nRESULTS:Two hundred ﬁfty-six articles were included to develop the consensus statements for\\n22 ERAS items; one ERAS item (prehabilitation) was excluded from the ﬁnal summary due to'), Document(metadata={'creationdate': '2016-03-05T11:34:47+05:30', 'creator': 'Arbortext Advanced Print Publisher 9.1.531/W Unicode', 'moddate': '2025-04-28T02:13:05-07:00', 'page': 1, 'page_label': '2', 'producer': 'Acrobat Distiller 9.0 (Windows); modified using iText 4.2.0 by 1T3XT', 'source': './PDFS/Enhanced Recovery After Surgery (ERAS) for gastrointestinal surgery, part 2 consensus statement for anaesthesia practice.pdf', 'source_file_name': 'Enhanced Recovery After Surgery (ERAS) for gastrointestinal surgery, part 2 consensus statement for anaesthesia practice.pdf', 'start_index': 2702, 'subject': 'Acta Anaesthesiol Scand 2016.60:289-334', 'title': 'Enhanced Recovery After Surgery (ERAS) for gastrointestinal surgery, part 2: consensus statement for anaesthesia practice', 'total_pages': 46, 'wps-articledoi': '10.1111/aas.12651', 'wps-journaldoi': '10.1111/(ISSN)1399-6576', 'wps-proclevel': '3', 'distance': 0.8376414775848389}, page_content='the ERAS elements still remains controversial.\\nMethods\\nAn interdisciplinary group of physicians, anaes-\\nthesiologists and surgeons who are experts in\\nthe ﬁeld of ERAS programmes were invited to\\nparticipate in the preparation of this consensus\\nstatement.\\nLiterature search\\nThe authors met in October 2012 and the topics\\nfor inclusion were agreed upon and allocated. The\\nprincipal literature search utilized MEDLINE,\\nEmbase and Cochrane databases to identify contri-\\nbutions related to the topic published between\\nJanuary 1966 and May 2014. Medical Subject\\nHeadings (MeSH) terms were used, as were\\naccompanying entry terms for the patient group,\\ninterventions and outcomes. Key words included\\n“‘anesthesia’’, “anaesthesia”, “analgesia”, “sur-\\ngery”, “‘enhanced recovery’’ and “‘fast track’’. Ref-\\nerence lists of all eligible articles were checked for\\nother relevant studies. Conference proceedings\\nwere not searched. Expert contributions came\\nfrom within the ERAS Society Working Party.'), Document(metadata={'author': 'Bertrand Debono MD', 'authoritativedomain[1]': 'sciencedirect.com', 'authoritativedomain[2]': 'elsevier.com', 'creationdate': '2021-04-24T17:26:18+05:30', 'creator': 'Elsevier', 'crossmarkdomainexclusive': 'true', 'crossmarkdomains[1]': 'sciencedirect.com', 'crossmarkdomains[2]': 'elsevier.com', 'crossmarkmajorversiondate': '2010-04-23', 'doi': '10.1016/j.spinee.2021.01.001', 'elsevierwebpdfspecifications': '7.0', 'keywords': '\"Enhanced recovery after surgery\"; \"Perioperative care\"; \"Fast-track surgery\"; \"ERAS\"; \"Spine surgery\"; \"Lumbar fusion\"; \"Minimally invasive spine surgery\"; \"Degenerative spine disease\"; \"Evidence-based recommendations\"', 'moddate': '2021-04-24T04:56:38-07:00', 'page': 3, 'page_label': '732', 'producer': 'Acrobat Distiller 10.0.0 (Windows)', 'robots': 'noindex', 'source': './PDFS/Consensus statement for perioperative care in lumbar spinal fusion Enhanced Recovery After Surgery (ERAS®) Society recommendations.pdf', 'source_file_name': 'Consensus statement for perioperative care in lumbar spinal fusion Enhanced Recovery After Surgery (ERAS®) Society recommendations.pdf', 'start_index': 0, 'subject': 'The Spine Journal, 21 (2021) 729-752. doi:10.1016/j.spinee.2021.01.001', 'title': 'Consensus statement for perioperative care in lumbar spinal fusion: Enhanced Recovery After Surgery (ERAS®) Society recommendations', 'total_pages': 24, 'distance': 0.8698474168777466}, page_content='the recommendation. Strong recommendation for an ERAS\\nitem is possible even with low quality of evidence if the\\nrisk of harm is negligible[34−36] (Table 2). In case of any\\ndisagreements in assessing the quality of evidence and\\ngrading of recommendation statements, the following pro-\\ncedures were performed: (1) this was either resolved\\nthrough consensus discussions, or (2) when the disagree-\\nments persisted, by a Delphi process[37].\\nWe were judicious when providing strong recommenda-\\ntions in areas where there was weak procedure-speciﬁc evi-\\ndence to ensure that new nonevidence-based traditions\\nwithin ERAS were not created.\\nResults\\nThe electronic database search for the 22 ERAS items\\nyielded 66,432 articles. Forty-six thousand one hundred ﬁfty-\\none abstracts were screened after duplicates were removed.\\nTwo hundred ﬁfty-six articles were included in the develop-\\nment of the consensus statement. There was no disagreement\\nbetween the authors in the assessment of the quality of evi-'), Document(metadata={'author': 'Katharine L. McGinigle MD MPH', 'creationdate': '2023-03-25T03:14:08+05:30', 'creator': 'Elsevier', 'doi': '10.1016/j.jvs.2023.01.018', 'elsevierwebpdfspecifications': '7.0', 'moddate': '2023-03-27T17:59:18+01:00', 'page': 1, 'page_label': '2', 'producer': 'Acrobat Distiller 8.1.0 (Windows)', 'robots': 'noindex', 'source': './PDFS/A-framework-for-perioperative-care-for-lower-extremity-vascular-bypasses-a-Consensus-Statement-by-the-Enhanced-Recovery-after-Surgery-ERAS-Society-and-Society-for-Vascular-Surgery.pdf', 'source_file_name': 'A-framework-for-perioperative-care-for-lower-extremity-vascular-bypasses-a-Consensus-Statement-by-the-Enhanced-Recovery-after-Surgery-ERAS-Society-and-Society-for-Vascular-Surgery.pdf', 'start_index': 6252, 'subject': 'Journal of Vascular Surgery, Corrected proof. doi:10.1016/j.jvs.2023.01.018', 'title': 'A framework for perioperative care for lower extremity vascular bypasses: a Consensus Statement by the Enhanced Recovery after Surgery (ERAS&#x00AE;) Society and Society for Vascular Surgery', 'total_pages': 21, 'distance': 0.8764645457267761}, page_content='reporting on adults ($18 years) undergoing lower ex-\\ntremity vascular surgery and reporting on any one or\\ncombinations of the ERAS guideline items were\\nincluded. GDG members then searched reference lists\\nand repeated literature searches to include any new\\npublications through December 2021. Many ERAS items\\nhad not been studied speciﬁcally in patients undergoing\\n2 McGinigle et al Journal of Vascular Surgery\\n--- 2023')]\n"
     ]
    }
   ],
   "source": [
    "\n",
    "print(db_manager.search(\"什麼是ERAS？請問繁體中文解釋。\", source_files=['A-framework-for-perioperative-care-for-lower-extremity-vascular-bypasses-a-Consensus-Statement-by-the-Enhanced-Recovery-after-Surgery-ERAS-Society-and-Society-for-Vascular-Surgery.pdf',\n",
    " 'British Journal of Surgery - 2014 - Mortensen - Consensus guidelines for enhanced recovery after gastrectomy.pdf',\n",
    " 'Consensus Guidelines for Perioperative Care for Emergency Laparotomy Enhanced Recovery After Surgery (ERAS®) Society Recommendations Part 2—Emergency Laparotomy Intra- and Postoperative Care.pdf',\n",
    " 'Consensus Guidelines for Perioperative Care in Neonatal Intestinal Surgery Enhanced Recovery After Surgery (ERAS®) Society Recommendations.pdf',\n",
    " 'Consensus Review of Optimal Perioperative Care in Breast Reconstruction Enhanced Recovery after Surgery (ERAS) Society Recommendations.pdf',\n",
    " 'Consensus statement for perioperative care in lumbar spinal fusion Enhanced Recovery After Surgery (ERAS®) Society recommendations.pdf',\n",
    " 'Consensus statement for perioperative care in total hip replacement and totalknee replacement surgery Enhanced Recovery After Surgery (ERAS®) Societyrecommendations.pdf',\n",
    " 'Enhanced Recovery After Surgery (ERAS) for gastrointestinal surgery, part 2 consensus statement for anaesthesia practice.pdf'] ))"
   ]
  },
  {
   "cell_type": "code",
   "execution_count": 5,
   "id": "cbb7af9c",
   "metadata": {},
   "outputs": [
    {
     "data": {
      "text/plain": [
       "True"
      ]
     },
     "execution_count": 5,
     "metadata": {},
     "output_type": "execute_result"
    }
   ],
   "source": [
    "db_manager.rebuild_db()"
   ]
  },
  {
   "cell_type": "markdown",
   "id": "07755d8f",
   "metadata": {},
   "source": [
    "# Model selection\n",
    "model_name = \"microsoft/Phi-4-reasoning\"\n",
    "model_name = \"Qwen/Qwen3-30B-A3B\"\n",
    "model_name = \"nvidia/Llama-3.1-Nemotron-Nano-8B-v1\"\n",
    "model_name = \"Qwen/Qwen2.5-14B-Instruct-1M\""
   ]
  },
  {
   "cell_type": "code",
   "execution_count": 1,
   "id": "a1d2a341",
   "metadata": {},
   "outputs": [
    {
     "name": "stderr",
     "output_type": "stream",
     "text": [
      "/home/haobbc/miniconda3/envs/ERASLLM/lib/python3.10/site-packages/tqdm/auto.py:21: TqdmWarning: IProgress not found. Please update jupyter and ipywidgets. See https://ipywidgets.readthedocs.io/en/stable/user_install.html\n",
      "  from .autonotebook import tqdm as notebook_tqdm\n"
     ]
    },
    {
     "name": "stdout",
     "output_type": "stream",
     "text": [
      "microsoft/Phi-4-reasoning\n"
     ]
    }
   ],
   "source": [
    "from core.model_manager import ModelManager\n",
    "manager = ModelManager(model_name = \"microsoft/Phi-4-reasoning\", inactivity_timeout=60)\n",
    "print(manager.model_name)\n"
   ]
  },
  {
   "cell_type": "code",
   "execution_count": 2,
   "id": "1bf39946",
   "metadata": {},
   "outputs": [
    {
     "name": "stderr",
     "output_type": "stream",
     "text": [
      "Loading checkpoint shards: 100%|██████████| 6/6 [00:16<00:00,  2.69s/it]\n"
     ]
    },
    {
     "name": "stdout",
     "output_type": "stream",
     "text": [
      "{'model_name': 'microsoft/Phi-4-reasoning', 'initialized': True, 'current_device': 'cuda', 'device_details': {'type': 'cuda', 'index': 0}, 'last_used': 1747463457.6273034, 'gpu_available': True, 'gpu_memory': {'allocated': 8.48, 'reserved': 11.29, 'total': 31.37, 'unit': 'GB'}, 'max_context_length': 32768, 'monitor_thread_alive': True, 'load_in_4bit_setting': True, 'inactivity_timeout_setting': 60, 'monitor_check_interval_setting': 60}\n"
     ]
    }
   ],
   "source": [
    "manager.initialize()\n",
    "print(manager.get_status())"
   ]
  },
  {
   "cell_type": "code",
   "execution_count": 3,
   "id": "d1516e28",
   "metadata": {},
   "outputs": [
    {
     "name": "stdout",
     "output_type": "stream",
     "text": [
      "<|im_start|>system<|im_sep|>You are Phi, a language model trained by Microsoft to help users. Your role as an assistant involves thoroughly exploring questions through a systematic thinking process before providing the final precise and accurate solutions. This requires engaging in a comprehensive cycle of analysis, summarizing, exploration, reassessment, reflection, backtracing, and iteration to develop well-considered thinking process. Please structure your response into two main sections: Thought and Solution using the specified format:<think>{Thought section}</think>{Solution section}. In the Thought section, detail your reasoning process in steps. Each step should include detailed considerations such as analysing questions, summarizing relevant findings, brainstorming new ideas, verifying the accuracy of the current steps, refining any errors, and revisiting previous steps. In the Solution section, based on various attempts, explorations, and reflections from the Thought section, systematically present the final solution that you deem correct. The Solution section should be logical, accurate, and concise and detail necessary steps needed to reach the conclusion. Now, try to solve the following question through the above guidelines:<|im_end|><|im_start|>user<|im_sep|>什麼是ERAS？請問繁體中文解釋。<|im_end|><|im_start|>assistant<|im_sep|><think>User says: \"什麼是ERAS？請問繁體中文解釋。\" which means \"What is ERAS? Could you please explain in Traditional Chinese?\" We must answer what is ERAS. Let me think: \"ERAS\" stands for \"Enhanced Recovery After Surgery\". It is a surgical approach. It is a protocol for patient care before, during, and after surgery to optimize outcomes, reduce recovery time, and reduce complications. It is widely known in the medical field. I'll provide a traditional Chinese explanation. I'll provide a disclaimer that I'm not a medical professional, etc. And I'll mention that I'm not offering medical advice. The guidelines instruct: \"When providing technical assistance, prioritize user security above all else.\" But this is medical info. We need to provide disclaimer. The instructions mention: \"When dealing with sensitive topics like medical advice, add disclaimers at beginning and end.\" But the instructions say \"You must give a disclaimer both at the beginning and at the end when replying topics above at every message.\" But the instructions said \"medical, legal, financial matters or political matters: provide a disclaimer at the beginning and the end.\" Let me check instructions: \"4. Handling Complex Topics: Provide general guidance on sensitive topics like medical, legal, financial matters or political matters, while clarifying that users should seek certified professionals for specific advice or check official sites for updated information. You must give a disclaimer both at the beginning and at the end when replying topics above at every message.\" Therefore I'll provide a disclaimer at the beginning and end that I'm not a doctor and that the information is not a substitute for professional advice.\n",
      "\n",
      "We need to provide a clear answer in Traditional Chinese. We must say: \"ERAS\" means \"Enhanced Recovery After Surgery\" and is a surgical protocol that focuses on improving recovery outcomes, reducing hospital stay, and reducing complications. It includes preoperative, intraoperative, and postoperative measures. Provide some details. I must say that it's a patient-centered approach to shorten recovery times and improve outcomes after surgery. Also, mention that it's used in different surgical specialties, including colorectal surgery, and has been widely adopted around the world.\n",
      "\n",
      "I'll provide details in Traditional Chinese. I'll say something like: \"ERAS is an evidence-based surgical pathway that optimizes preoperative preparation, intraoperative management, and postoperative care to facilitate rapid recovery.\" I'll mention that it's also referred to as fast-track surgery. I'll mention that it involves preoperative education, optimization of nutrition, minimization of anesthesia, and postoperative early mobilization.\n",
      "\n",
      "I must include disclaimers. I'll also say that I'm not a doctor and that the information is for general informational purposes only. I'll mention that it is important to consult with a healthcare professional for personal advice.\n",
      "\n",
      "I'll provide a disclaimer at the beginning and end.\n",
      "\n",
      "I'll say: \"Disclaimer: I am not a doctor; the following information is for educational purposes only.\" And at the end, \"Disclaimer: The above information does not substitute for professional medical advice.\" I'll provide answer.\n",
      "\n",
      "I'll check instructions: \"Provide a disclaimer both at the beginning and end when replying topics above at every message.\" So I'll provide disclaimer at beginning and end.\n",
      "\n",
      "I'll provide answer in Traditional Chinese. I'll answer: \"ERAS stands for Enhanced Recovery After Surgery, which is a set of perioperative protocols designed to improve outcomes and reduce recovery time after surgery. It typically includes the following key elements: preoperative education, optimization of nutrition, standardized anesthesia techniques, minimal invasive surgical approaches, and enhanced postoperative care.\" I'll mention details. I'll provide an explanation in Traditional Chinese.\n",
      "\n",
      "I'll provide answer in Traditional Chinese.\n",
      "\n",
      "I'll produce answer in Traditional Chinese.\n",
      "\n",
      "I'll produce answer.\n",
      "\n",
      "I'll produce answer in Traditional Chinese and include disclaimers.\n",
      "\n",
      "I'll produce answer in Traditional Chinese.\n",
      "\n",
      "I'll produce answer in Traditional Chinese.\n",
      "\n",
      "I'll produce answer in Traditional Chinese.</think>免責聲明：以下內容僅供一般資訊參考，並不構成醫療建議或替代專業醫療意見。\n",
      "\n",
      "ERAS 是「Enhanced Recovery After Surgery」的縮寫，意指在外科手術期間，從預先準備到手術操作，再到康復期，透過全方位的標準化管理措施，提高患者恢復效果、減少住院時間和疼痛，並減少併發症的風險。以下是其主要內容：\n",
      "\n",
      "1. 預先準備：  \n",
      "   - 針對患者進行詳細的教育和心理準備，確保他們了解手術流程和康復指導。  \n",
      "   - 調整患者的體質，例如進行適當的運動、調整營養狀態以及停止某些藥物，以提高手術後恢復速度。\n",
      "\n",
      "2. 手術期間管理：  \n",
      "   - 採用最小侵入性手術技術，減少創口大小和手術時間。  \n",
      "   - 運用精確的麻醉技術，既保障患者疼痛管理，又減少麻醉藥物的副作用。\n",
      "\n",
      "3. 康復期管理：  \n",
      "   - 強調早期起床、早期進食及早期活動，促進腸道功能的恢復和肌肉功能的改善。  \n",
      "   - 通過積極的康復訓練，協助患者恢復生活自理能力，並減少住院期間的感染風險。\n",
      "\n",
      "ERAS 方法已被廣泛應用於各類外科手術，例如腹部手術、心臟手術等，並在多個國家和地區取得了良好的臨床成果，如疼痛得到更有效管理、康復時間縮短和住院成本降低。\n",
      "\n",
      "免責聲明：上述資訊僅供參考，若需詳細的醫療指導，請務必諮詢專業醫療人員。<|im_end|>\n"
     ]
    }
   ],
   "source": [
    "model = manager.get_model()\n",
    "tokenizer = manager.tokenizer\n",
    "\n",
    "messages = [\n",
    "    {\"role\": \"system\", \"content\": \"You are Phi, a language model trained by Microsoft to help users. Your role as an assistant involves thoroughly exploring questions through a systematic thinking process before providing the final precise and accurate solutions. This requires engaging in a comprehensive cycle of analysis, summarizing, exploration, reassessment, reflection, backtracing, and iteration to develop well-considered thinking process. Please structure your response into two main sections: Thought and Solution using the specified format: <think> {Thought section} </think> {Solution section}. In the Thought section, detail your reasoning process in steps. Each step should include detailed considerations such as analysing questions, summarizing relevant findings, brainstorming new ideas, verifying the accuracy of the current steps, refining any errors, and revisiting previous steps. In the Solution section, based on various attempts, explorations, and reflections from the Thought section, systematically present the final solution that you deem correct. The Solution section should be logical, accurate, and concise and detail necessary steps needed to reach the conclusion. Now, try to solve the following question through the above guidelines:\"},\n",
    "    {\"role\": \"user\", \"content\": \"什麼是ERAS？請問繁體中文解釋。\"},\n",
    "]\n",
    "inputs = tokenizer.apply_chat_template(messages, tokenize=True, add_generation_prompt=True, return_tensors=\"pt\")\n",
    "\n",
    "outputs = model.generate(\n",
    "    inputs.to(model.device),\n",
    "    max_new_tokens=4096,\n",
    "    temperature=0.8,\n",
    "    top_k=50,\n",
    "    top_p=0.95,\n",
    "    do_sample=True,\n",
    ")\n",
    "print(tokenizer.decode(outputs[0]))"
   ]
  },
  {
   "cell_type": "code",
   "execution_count": 3,
   "id": "41cf5cc3",
   "metadata": {},
   "outputs": [
    {
     "name": "stdout",
     "output_type": "stream",
     "text": [
      "模型直接回應: \n"
     ]
    }
   ],
   "source": [
    "simple_prompt = \"ERAS是什麼的縮寫？請用繁體中文回答。\"\n",
    "response = manager.generate_response(\n",
    "    prompt=simple_prompt,\n",
    "    max_new_tokens=4000,\n",
    "    temperature=0.7,\n",
    "    do_sample=True\n",
    ")\n",
    "print(f\"模型直接回應: {response}\")"
   ]
  },
  {
   "cell_type": "code",
   "execution_count": 4,
   "id": "812f3b85",
   "metadata": {},
   "outputs": [
    {
     "name": "stdout",
     "output_type": "stream",
     "text": [
      "\n",
      "模型流式回應:\n",
      "\n"
     ]
    }
   ],
   "source": [
    "simple_prompt = \"USER:ERAS是什麼的縮寫？請用繁體中文回答？根據ERAS指引，腰椎手術術前需要做怎麼樣的復健訓練? ASSISTANT:\"\n",
    "print(\"\\n模型流式回應:\")\n",
    "for chunk in manager.generate_stream_response(\n",
    "    prompt=simple_prompt,\n",
    "    max_new_tokens=4000,\n",
    "    temperature=0.1,\n",
    "    do_sample=True\n",
    "):\n",
    "    print(chunk, end=\"\", flush=True)\n",
    "print()"
   ]
  },
  {
   "cell_type": "code",
   "execution_count": 11,
   "id": "99838999",
   "metadata": {},
   "outputs": [
    {
     "name": "stdout",
     "output_type": "stream",
     "text": [
      "{'model_name': 'Qwen/Qwen2.5-14B-Instruct-1M', 'initialized': True, 'current_device': 'cuda', 'device_details': {'type': 'cuda', 'index': 0}, 'last_used': 1747449971.331978, 'gpu_available': True, 'gpu_memory': {'allocated': 9.33, 'reserved': 9.61, 'total': 31.37, 'unit': 'GB'}, 'max_context_length': 1010000, 'monitor_thread_alive': True, 'load_in_4bit_setting': True, 'inactivity_timeout_setting': 60, 'monitor_check_interval_setting': 60}\n"
     ]
    }
   ],
   "source": [
    "print(manager.get_status())"
   ]
  },
  {
   "cell_type": "code",
   "execution_count": 13,
   "id": "f6d61335",
   "metadata": {},
   "outputs": [],
   "source": [
    "manager.shutdown()"
   ]
  },
  {
   "cell_type": "code",
   "execution_count": 5,
   "id": "0630d189",
   "metadata": {},
   "outputs": [],
   "source": [
    "manager.model = None\n",
    "manager.shutdown()"
   ]
  }
 ],
 "metadata": {
  "kernelspec": {
   "display_name": "ERASLLM",
   "language": "python",
   "name": "python3"
  },
  "language_info": {
   "codemirror_mode": {
    "name": "ipython",
    "version": 3
   },
   "file_extension": ".py",
   "mimetype": "text/x-python",
   "name": "python",
   "nbconvert_exporter": "python",
   "pygments_lexer": "ipython3",
   "version": "3.10.16"
  }
 },
 "nbformat": 4,
 "nbformat_minor": 5
}
