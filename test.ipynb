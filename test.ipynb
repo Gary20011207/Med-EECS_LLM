{
 "cells": [
  {
   "cell_type": "markdown",
   "id": "9ed73831",
   "metadata": {},
   "source": [
    "# 導入模組"
   ]
  },
  {
   "cell_type": "code",
   "execution_count": 1,
   "id": "a1d2a341",
   "metadata": {},
   "outputs": [
    {
     "name": "stderr",
     "output_type": "stream",
     "text": [
      "/home/haobbc/miniconda3/envs/ERASLLM/lib/python3.10/site-packages/tqdm/auto.py:21: TqdmWarning: IProgress not found. Please update jupyter and ipywidgets. See https://ipywidgets.readthedocs.io/en/stable/user_install.html\n",
      "  from .autonotebook import tqdm as notebook_tqdm\n"
     ]
    }
   ],
   "source": [
    "from core.model_manager import ModelManager\n"
   ]
  },
  {
   "cell_type": "code",
   "execution_count": 2,
   "id": "7be46bc0",
   "metadata": {},
   "outputs": [
    {
     "name": "stdout",
     "output_type": "stream",
     "text": [
      "nvidia/Llama-3.1-Nemotron-Nano-8B-v1\n"
     ]
    }
   ],
   "source": [
    "manager = ModelManager()\n",
    "print(manager.model_name)"
   ]
  },
  {
   "cell_type": "code",
   "execution_count": null,
   "id": "1bf39946",
   "metadata": {},
   "outputs": [
    {
     "name": "stderr",
     "output_type": "stream",
     "text": [
      "Fetching 4 files:  25%|██▌       | 1/4 [06:02<18:07, 362.63s/it]\n"
     ]
    }
   ],
   "source": [
    "manager.initialize()\n",
    "print(manager.get_status())"
   ]
  },
  {
   "cell_type": "code",
   "execution_count": 14,
   "id": "41cf5cc3",
   "metadata": {},
   "outputs": [
    {
     "name": "stdout",
     "output_type": "stream",
     "text": [
      "模型直接回應:  ERAS是「增強型恢復外科術後加速康復方案」的縮寫。在中文中，通常被翻譯為「加速康復外科」或「外科手術加速康復方案」。這個概念旨在通過多種措施來減少患者術後的恢復時間並提高其康復質量。這些措施包括了從手術前、中到後的一系列標準化處理。希望這樣的解釋對您有幫助！如果您有任何進一步的問題，請隨時告訴我。\n"
     ]
    }
   ],
   "source": [
    "simple_prompt = \"ERAS是什麼的縮寫？請用繁體中文回答。\"\n",
    "response = manager.generate_response(\n",
    "    prompt=simple_prompt,\n",
    "    max_new_tokens=4000,\n",
    "    temperature=0.7,\n",
    "    do_sample=True\n",
    "        # pad_token_id 和 eos_token_id 會由 model_manager.generate_response 內部處理\n",
    ")\n",
    "print(f\"模型直接回應: {response}\")"
   ]
  },
  {
   "cell_type": "code",
   "execution_count": 25,
   "id": "812f3b85",
   "metadata": {},
   "outputs": [
    {
     "name": "stdout",
     "output_type": "stream",
     "text": [
      "\n",
      "模型流式回應:\n",
      "ERAS是「增強型恢復（Enhanced Recovery After Surgery）」的縮寫。\n",
      "\n",
      "根據ERAS指引，腰椎手術術前的復健訓練通常包括以下幾個方面：\n",
      "\n",
      "1. **核心肌群訓練**：強化腹部和背部的核心肌群，以幫助穩定脊柱並減少術後疼痛。\n",
      "2. **伸展運動**：進行適當的伸展運動來增加柔軟度，特別是針對下背部和腿部的伸展。\n",
      "3. **有氧運動**：在醫生指導下進行輕度的有氧運動，如步行，以提高心肺功能。\n",
      "4. **姿勢調整**：學習正確的坐姿、站姿及搬運物品的方式，避免不良姿勢對脊椎造成的壓力。\n",
      "5. **呼吸練習**：進行深呼吸練習，有助於改善呼吸功能，並減少術後肺部併發症的風險。\n",
      "\n",
      "這些訓練旨在提升患者的手術耐受力，縮短住院時間，並加速術後恢復。不過，具體的訓練內容應由專業的物理治療師或醫師根據患者的具體情況來制定。在進行任何訓練之前，建議先諮詢醫療專業人員。\n"
     ]
    }
   ],
   "source": [
    "simple_prompt = \"USER:ERAS是什麼的縮寫？請用繁體中文回答？根據ERAS指引，腰椎手術術前需要做怎麼樣的復健訓練? ASSISTANT:\"\n",
    "print(\"\\n模型流式回應:\")\n",
    "for chunk in manager.generate_stream_response(\n",
    "    prompt=simple_prompt,\n",
    "    max_new_tokens=4000,\n",
    "    temperature=0.1,\n",
    "    do_sample=True\n",
    "):\n",
    "    print(chunk, end=\"\", flush=True)\n",
    "print()"
   ]
  },
  {
   "cell_type": "code",
   "execution_count": 26,
   "id": "0630d189",
   "metadata": {},
   "outputs": [
    {
     "name": "stdout",
     "output_type": "stream",
     "text": [
      "{'model_name': 'Qwen/Qwen2.5-14B-Instruct-1M', 'initialized': True, 'current_device': 'cpu', 'device_details': {'type': 'cpu'}, 'last_used': 1747364415.5942752, 'gpu_available': True, 'gpu_memory': None, 'max_context_length': 1010000}\n"
     ]
    }
   ],
   "source": [
    "print(manager.get_status())"
   ]
  }
 ],
 "metadata": {
  "kernelspec": {
   "display_name": "ERASLLM",
   "language": "python",
   "name": "python3"
  },
  "language_info": {
   "codemirror_mode": {
    "name": "ipython",
    "version": 3
   },
   "file_extension": ".py",
   "mimetype": "text/x-python",
   "name": "python",
   "nbconvert_exporter": "python",
   "pygments_lexer": "ipython3",
   "version": "3.10.16"
  }
 },
 "nbformat": 4,
 "nbformat_minor": 5
}
